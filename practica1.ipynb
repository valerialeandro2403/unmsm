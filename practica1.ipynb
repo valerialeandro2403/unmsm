{
  "nbformat": 4,
  "nbformat_minor": 0,
  "metadata": {
    "colab": {
      "provenance": [],
      "mount_file_id": "13cb9oogaG7lPOG9C2h1KvGHcm5dn_dcy",
      "authorship_tag": "ABX9TyNIz8ubhp1ENt06t5rzME2D",
      "include_colab_link": true
    },
    "kernelspec": {
      "name": "python3",
      "display_name": "Python 3"
    },
    "language_info": {
      "name": "python"
    }
  },
  "cells": [
    {
      "cell_type": "markdown",
      "metadata": {
        "id": "view-in-github",
        "colab_type": "text"
      },
      "source": [
        "<a href=\"https://colab.research.google.com/github/valerialeandro2403/unmsm/blob/main/practica1.ipynb\" target=\"_parent\"><img src=\"https://colab.research.google.com/assets/colab-badge.svg\" alt=\"Open In Colab\"/></a>"
      ]
    },
    {
      "cell_type": "code",
      "source": [
        "help(\"keywords\")"
      ],
      "metadata": {
        "colab": {
          "base_uri": "https://localhost:8080/"
        },
        "id": "rK5bh0MDxBOj",
        "outputId": "c1ae3d4c-02ea-4f67-bd68-9a9f5326cdaa"
      },
      "execution_count": null,
      "outputs": [
        {
          "output_type": "stream",
          "name": "stdout",
          "text": [
            "\n",
            "Here is a list of the Python keywords.  Enter any keyword to get more help.\n",
            "\n",
            "False               class               from                or\n",
            "None                continue            global              pass\n",
            "True                def                 if                  raise\n",
            "and                 del                 import              return\n",
            "as                  elif                in                  try\n",
            "assert              else                is                  while\n",
            "async               except              lambda              with\n",
            "await               finally             nonlocal            yield\n",
            "break               for                 not                 \n",
            "\n"
          ]
        }
      ]
    },
    {
      "cell_type": "code",
      "source": [
        "#variables: masa_hidrogeno, masa_carbono y masa_oxigeno\n",
        "\n",
        "masa_hidrogeno = 1.001\n",
        "\n",
        "masa_oxigeno = 15.999\n",
        "\n",
        "masa_carbono = 12.000\n",
        "\n",
        "masa_etanol = masa_carbono*2 + masa_oxigeno + masa_hidrogeno*6\n",
        "\n",
        "print(f\"la masa molecular del etanol es {masa_etanol}\")"
      ],
      "metadata": {
        "colab": {
          "base_uri": "https://localhost:8080/"
        },
        "id": "ef6rE6bkxPqJ",
        "outputId": "77df9dce-6cef-45f3-aa73-94edef641b3d"
      },
      "execution_count": null,
      "outputs": [
        {
          "output_type": "stream",
          "name": "stdout",
          "text": [
            "la masa molecular del etanol es 46.005\n"
          ]
        }
      ]
    },
    {
      "cell_type": "code",
      "source": [
        "def celsius_a_kelvin(temperatura):\n",
        "    return temperatura + 273\n",
        "temperatura_plata = celsius_a_kelvin(962)\n",
        "temperatura_oro = celsius_a_kelvin(1064)\n",
        "temperatura_estaño = celsius_a_kelvin(232)\n",
        "temperatura_hierro = celsius_a_kelvin(1538)\n",
        "temperatura_tungsteno = celsius_a_kelvin(3422)\n",
        "print(f'la temperatura de plata en kelvin es: {temperatura_plata}')\n",
        "print(f'la temperatura de plata en kelvin es: {temperatura_oro}')\n",
        "print(f'la temperatura de plata en kelvin es: {temperatura_estaño}')\n",
        "print(f'la temperatura de plata en kelvin es: {temperatura_hierro}')\n",
        "print(f'la temperatura de plata en kelvin es: {temperatura_tungsteno}')"
      ],
      "metadata": {
        "colab": {
          "base_uri": "https://localhost:8080/"
        },
        "id": "iCs1u4CYxlaJ",
        "outputId": "d6778e9b-1c73-4ac5-d293-439eb9f56f07"
      },
      "execution_count": null,
      "outputs": [
        {
          "output_type": "stream",
          "name": "stdout",
          "text": [
            "la temperatura de plata en kelvin es: 1235\n",
            "la temperatura de plata en kelvin es: 1337\n",
            "la temperatura de plata en kelvin es: 505\n",
            "la temperatura de plata en kelvin es: 1811\n",
            "la temperatura de plata en kelvin es: 3695\n"
          ]
        }
      ]
    },
    {
      "cell_type": "code",
      "source": [
        "1.321*(10**(-4)) + 8.5*(10**(-2))"
      ],
      "metadata": {
        "colab": {
          "base_uri": "https://localhost:8080/"
        },
        "id": "lAJk30EG18zv",
        "outputId": "87f2c143-fcfe-46d3-d3c7-fc994f20376c"
      },
      "execution_count": null,
      "outputs": [
        {
          "output_type": "execute_result",
          "data": {
            "text/plain": [
              "0.0851321"
            ]
          },
          "metadata": {},
          "execution_count": 15
        }
      ]
    },
    {
      "cell_type": "code",
      "source": [
        "1.71*(10**(3)) - 2.01*(10**(2))"
      ],
      "metadata": {
        "colab": {
          "base_uri": "https://localhost:8080/"
        },
        "id": "PVbt4Llb48kX",
        "outputId": "ea1de9e4-2eab-4d66-ed96-34dfa0aeb1ec"
      },
      "execution_count": null,
      "outputs": [
        {
          "output_type": "execute_result",
          "data": {
            "text/plain": [
              "1509.0"
            ]
          },
          "metadata": {},
          "execution_count": 16
        }
      ]
    },
    {
      "cell_type": "code",
      "source": [
        "(7.4*(10**5))*(7.2*(10**4))"
      ],
      "metadata": {
        "colab": {
          "base_uri": "https://localhost:8080/"
        },
        "id": "s7eWzPBQ5Pcg",
        "outputId": "2eb82150-9991-40a7-8cbe-15ea67c6b617"
      },
      "execution_count": null,
      "outputs": [
        {
          "output_type": "execute_result",
          "data": {
            "text/plain": [
              "53280000000.0"
            ]
          },
          "metadata": {},
          "execution_count": 18
        }
      ]
    },
    {
      "cell_type": "code",
      "source": [
        "(7.4*(10**5))/(7.2*(10**4))"
      ],
      "metadata": {
        "colab": {
          "base_uri": "https://localhost:8080/"
        },
        "id": "1ELMJ7rR5xV_",
        "outputId": "b1bb2fea-78e0-4949-c3a9-b8869011f875"
      },
      "execution_count": null,
      "outputs": [
        {
          "output_type": "execute_result",
          "data": {
            "text/plain": [
              "10.277777777777779"
            ]
          },
          "metadata": {},
          "execution_count": 19
        }
      ]
    },
    {
      "cell_type": "markdown",
      "source": [
        "El artículo inicia principalmente sobre la afirmación de que el material LK-99 era un superconductor a temperatura ambiente Por ende muchos científicos se preguntaron si era de todo el cierto y ahí surge la pregunta principal.\n",
        "Luego surgió la hipótesis sobre las propiedades que ofrecía el LK-99.\n",
        "En adelante comenzaron con la experimentación, comparaban sus resistividades en diferentes temperaturas\n",
        "Luego compararon y analizaron con sus resultados y los resultados de otros científicos.\n",
        "Por último llegaron a la conclusión de que el material LK-99 no era un superconductor a temperatura ambiente y descubrieron que la afirmación principal era ocasionado por  las impurezas del sulfuro de cobre."
      ],
      "metadata": {
        "id": "qi97BWP-7n0N"
      }
    }
  ]
}